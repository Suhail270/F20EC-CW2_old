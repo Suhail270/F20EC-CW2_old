{
 "cells": [
  {
   "cell_type": "code",
   "execution_count": 94,
   "id": "ea38f194",
   "metadata": {},
   "outputs": [],
   "source": [
    "import numpy as np\n",
    "import matplotlib.pyplot as plt\n",
    "import pandas as pd\n",
    "from sklearn.metrics import accuracy_score\n",
    "from sklearn.model_selection import train_test_split\n",
    "from sklearn.tree import DecisionTreeRegressor"
   ]
  },
  {
   "cell_type": "code",
   "execution_count": 96,
   "id": "dd5eb5ec",
   "metadata": {},
   "outputs": [
    {
     "data": {
      "text/plain": [
       "<bound method NDFrame.head of          product_id  location  product_type  demand  stock\n",
       "0             49688        73            11      24     30\n",
       "1                 1        61            19      32     21\n",
       "2                 1        61            19      32     35\n",
       "3                 1        61            19      32     22\n",
       "4                 1        61            19      32     22\n",
       "...             ...       ...           ...     ...    ...\n",
       "1345490           1        61            19      32     27\n",
       "1345491           1        61            19      32     35\n",
       "1345492           1        61            19      32     21\n",
       "1345493           1        61            19      32     35\n",
       "1345494           1        61            19      32     22\n",
       "\n",
       "[1345495 rows x 5 columns]>"
      ]
     },
     "execution_count": 96,
     "metadata": {},
     "output_type": "execute_result"
    }
   ],
   "source": [
    "df = pd.read_csv('combined_algo.csv')\n",
    "\n",
    "to_drop = [\"dimensions\"]\n",
    "ndf = df.drop(columns=to_drop)\n",
    "\n",
    "rename =  {\n",
    "               #'product_id': 'product_id',\n",
    "               #'aisle_id': 'location',\n",
    "               'department_id': 'product_type',\n",
    "               #'add_to_cart_order': 'demand',\n",
    "               #'stock': 'stock'\n",
    "          }\n",
    "\n",
    "ndf.rename(columns=rename, inplace=True)\n",
    "ndf.head"
   ]
  },
  {
   "cell_type": "code",
   "execution_count": 97,
   "id": "633cc525",
   "metadata": {},
   "outputs": [
    {
     "data": {
      "text/plain": [
       "array([[49688,    11,    24,    30],\n",
       "       [    1,    19,    32,    21],\n",
       "       [    1,    19,    32,    35],\n",
       "       ...,\n",
       "       [    1,    19,    32,    21],\n",
       "       [    1,    19,    32,    35],\n",
       "       [    1,    19,    32,    22]], dtype=int64)"
      ]
     },
     "execution_count": 97,
     "metadata": {},
     "output_type": "execute_result"
    }
   ],
   "source": [
    "X = df.drop(columns=['location']).values\n",
    "y = df['location'].values\n",
    "X"
   ]
  },
  {
   "cell_type": "code",
   "execution_count": 98,
   "id": "5c24e2d0",
   "metadata": {},
   "outputs": [
    {
     "data": {
      "text/plain": [
       "array([[ 10,   7,   1,  33],\n",
       "       [  1,  19,  32,  38],\n",
       "       [130,   1,  68,  37],\n",
       "       ...,\n",
       "       [  1,  19,  32,  23],\n",
       "       [ 10,   7,   1,  35],\n",
       "       [ 25,  19,  92,  33]], dtype=int64)"
      ]
     },
     "execution_count": 98,
     "metadata": {},
     "output_type": "execute_result"
    }
   ],
   "source": [
    "X_train, X_test, y_train, y_test = train_test_split(X, y, test_size = 0.20)\n",
    "X_train"
   ]
  },
  {
   "cell_type": "code",
   "execution_count": 99,
   "id": "dc1160a4",
   "metadata": {},
   "outputs": [
    {
     "data": {
      "text/plain": [
       "DecisionTreeRegressor()"
      ]
     },
     "execution_count": 99,
     "metadata": {},
     "output_type": "execute_result"
    }
   ],
   "source": [
    "regressor = DecisionTreeRegressor()\n",
    "regressor.fit(X_train.reshape(-1,4), y_train.reshape(-1,1))"
   ]
  },
  {
   "cell_type": "code",
   "execution_count": 132,
   "id": "692fba6b",
   "metadata": {},
   "outputs": [
    {
     "data": {
      "text/plain": [
       "0.999996283895518"
      ]
     },
     "execution_count": 132,
     "metadata": {},
     "output_type": "execute_result"
    }
   ],
   "source": [
    "y_pred = regressor.predict(X_test.reshape(-1,4))\n",
    "score=accuracy_score(y_test.reshape(-1,1), y_pred)\n",
    "score"
   ]
  },
  {
   "cell_type": "code",
   "execution_count": 128,
   "id": "4dc15688",
   "metadata": {},
   "outputs": [
    {
     "data": {
      "text/plain": [
       "array([1.])"
      ]
     },
     "execution_count": 128,
     "metadata": {},
     "output_type": "execute_result"
    }
   ],
   "source": [
    "pre = regressor.predict([[20,81,90,109]])\n",
    "pre"
   ]
  },
  {
   "cell_type": "code",
   "execution_count": 102,
   "id": "d7fe3c41",
   "metadata": {},
   "outputs": [
    {
     "data": {
      "text/html": [
       "<div>\n",
       "<style scoped>\n",
       "    .dataframe tbody tr th:only-of-type {\n",
       "        vertical-align: middle;\n",
       "    }\n",
       "\n",
       "    .dataframe tbody tr th {\n",
       "        vertical-align: top;\n",
       "    }\n",
       "\n",
       "    .dataframe thead th {\n",
       "        text-align: right;\n",
       "    }\n",
       "</style>\n",
       "<table border=\"1\" class=\"dataframe\">\n",
       "  <thead>\n",
       "    <tr style=\"text-align: right;\">\n",
       "      <th></th>\n",
       "      <th>Real Values</th>\n",
       "      <th>Predicted Values</th>\n",
       "    </tr>\n",
       "  </thead>\n",
       "  <tbody>\n",
       "    <tr>\n",
       "      <th>0</th>\n",
       "      <td>61</td>\n",
       "      <td>61.0</td>\n",
       "    </tr>\n",
       "    <tr>\n",
       "      <th>1</th>\n",
       "      <td>115</td>\n",
       "      <td>115.0</td>\n",
       "    </tr>\n",
       "    <tr>\n",
       "      <th>2</th>\n",
       "      <td>61</td>\n",
       "      <td>61.0</td>\n",
       "    </tr>\n",
       "    <tr>\n",
       "      <th>3</th>\n",
       "      <td>121</td>\n",
       "      <td>121.0</td>\n",
       "    </tr>\n",
       "    <tr>\n",
       "      <th>4</th>\n",
       "      <td>61</td>\n",
       "      <td>61.0</td>\n",
       "    </tr>\n",
       "    <tr>\n",
       "      <th>...</th>\n",
       "      <td>...</td>\n",
       "      <td>...</td>\n",
       "    </tr>\n",
       "    <tr>\n",
       "      <th>269094</th>\n",
       "      <td>93</td>\n",
       "      <td>93.0</td>\n",
       "    </tr>\n",
       "    <tr>\n",
       "      <th>269095</th>\n",
       "      <td>61</td>\n",
       "      <td>61.0</td>\n",
       "    </tr>\n",
       "    <tr>\n",
       "      <th>269096</th>\n",
       "      <td>61</td>\n",
       "      <td>61.0</td>\n",
       "    </tr>\n",
       "    <tr>\n",
       "      <th>269097</th>\n",
       "      <td>61</td>\n",
       "      <td>61.0</td>\n",
       "    </tr>\n",
       "    <tr>\n",
       "      <th>269098</th>\n",
       "      <td>83</td>\n",
       "      <td>83.0</td>\n",
       "    </tr>\n",
       "  </tbody>\n",
       "</table>\n",
       "<p>269099 rows × 2 columns</p>\n",
       "</div>"
      ],
      "text/plain": [
       "        Real Values  Predicted Values\n",
       "0                61              61.0\n",
       "1               115             115.0\n",
       "2                61              61.0\n",
       "3               121             121.0\n",
       "4                61              61.0\n",
       "...             ...               ...\n",
       "269094           93              93.0\n",
       "269095           61              61.0\n",
       "269096           61              61.0\n",
       "269097           61              61.0\n",
       "269098           83              83.0\n",
       "\n",
       "[269099 rows x 2 columns]"
      ]
     },
     "execution_count": 102,
     "metadata": {},
     "output_type": "execute_result"
    }
   ],
   "source": [
    "rp = pd.DataFrame({'Real Values':y_test.reshape(-1), 'Predicted Values':y_pred.reshape(-1)})\n",
    "rp"
   ]
  },
  {
   "cell_type": "code",
   "execution_count": null,
   "id": "07c2982e",
   "metadata": {},
   "outputs": [],
   "source": []
  }
 ],
 "metadata": {
  "kernelspec": {
   "display_name": "Python 3 (ipykernel)",
   "language": "python",
   "name": "python3"
  },
  "language_info": {
   "codemirror_mode": {
    "name": "ipython",
    "version": 3
   },
   "file_extension": ".py",
   "mimetype": "text/x-python",
   "name": "python",
   "nbconvert_exporter": "python",
   "pygments_lexer": "ipython3",
   "version": "3.9.13"
  }
 },
 "nbformat": 4,
 "nbformat_minor": 5
}
